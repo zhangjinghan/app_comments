{
 "cells": [
  {
   "cell_type": "code",
   "execution_count": 1,
   "metadata": {},
   "outputs": [
    {
     "name": "stdout",
     "output_type": "stream",
     "text": [
      "{'likes': '0', 'replies': '0', 'weight': '0', 'create_time': '2021-07-19 14:25:51', 'version_name': '16.0.12827.20140', 'score': '1', 'text_score': '0', 'm_type': '0', 'puid': '0', 'pid': '0', 'support_type': '2', 'ip_str': '183.197.178.53', 'update_time': '0000-00-00 00:00:00', 'content': '垃圾软件👎🖕🙃', 'imgs': '', 'username': '360U3316062062', 'image_url': 'http://p1.qhmsg.com/dm/50_50_100/t0105d6cf9b508f72c8.jpg', 'msgid': '63323710', 'type': 'bad', 'qid': '3316062062', 'isadmin': '', 'liked': '0'}\n",
      "{'likes': '0', 'replies': '0', 'weight': '0', 'create_time': '2021-06-12 00:01:36', 'version_name': '16.0.12827.20140', 'score': '5', 'text_score': '0', 'm_type': '4', 'puid': '0', 'pid': '0', 'support_type': '0', 'ip_str': '223.106.52.226', 'update_time': '0000-00-00 00:00:00', 'content': '没有用了', 'imgs': '', 'username': 'WANG19760712', 'image_url': 'http://p1.qhmsg.com/dm/50_50_100/t01d1274883acb1ca38.jpg', 'msgid': '63205831', 'type': 'best', 'qid': '214734180', 'isadmin': '', 'liked': '0'}\n",
      "{'likes': '0', 'replies': '0', 'weight': '0', 'create_time': '2021-05-13 22:05:05', 'version_name': '16.0.12827.20140', 'score': '5', 'text_score': '0', 'm_type': '4', 'puid': '0', 'pid': '0', 'support_type': '0', 'ip_str': '117.170.30.7', 'update_time': '0000-00-00 00:00:00', 'content': '挺好的，不想别的软件收费', 'imgs': '', 'username': 'WZM_937', 'image_url': 'http://p1.qhmsg.com/dm/50_50_100/t01a60a7f6c2441e633.jpg', 'msgid': '63123697', 'type': 'best', 'qid': '3301415473', 'isadmin': '', 'liked': '0'}\n",
      "{'likes': '0', 'replies': '0', 'weight': '0', 'create_time': '2021-04-26 10:46:05', 'version_name': '16.0.12827.20140', 'score': '4', 'text_score': '0', 'm_type': '4', 'puid': '0', 'pid': '0', 'support_type': '0', 'ip_str': '183.219.48.18', 'update_time': '0000-00-00 00:00:00', 'content': '登录太慢了。自动修正怎么关闭？', 'imgs': '', 'username': '亲爱一家人2020', 'image_url': 'http://p1.qhmsg.com/dm/50_50_100/t0142a6ffa09c185f59.jpg', 'msgid': '63082382', 'type': 'best', 'qid': '505664881', 'isadmin': '', 'liked': '0'}\n",
      "{'likes': '0', 'replies': '0', 'weight': '0', 'create_time': '2021-03-22 15:00:47', 'version_name': '16.0.12827.20140', 'score': '4', 'text_score': '0', 'm_type': '4', 'puid': '0', 'pid': '0', 'support_type': '0', 'ip_str': '175.197.56.37', 'update_time': '0000-00-00 00:00:00', 'content': '只是个人记录,不用回复。\\n登录新建账号没建任何文档,此时占用内存121+242。\\n没有分屏功能。\\n有很多免费模板', 'imgs': '', 'username': 'superjunnerm', 'image_url': 'http://p1.qhmsg.com/dm/50_50_100/t010c5af0f77a24ee84.jpg', 'msgid': '62980021', 'type': 'best', 'qid': '39014386', 'isadmin': '', 'liked': '0'}\n",
      "[{'create_time': '2021-07-19 14:25:51', 'username': '360U3316062062', 'score': '1', 'content': '垃圾软件👎🖕🙃', 'version_name': '16.0.12827.20140', 'msgid': '63323710'}, {'create_time': '2021-06-12 00:01:36', 'username': 'WANG19760712', 'score': '5', 'content': '没有用了', 'version_name': '16.0.12827.20140', 'msgid': '63205831'}, {'create_time': '2021-05-13 22:05:05', 'username': 'WZM_937', 'score': '5', 'content': '挺好的，不想别的软件收费', 'version_name': '16.0.12827.20140', 'msgid': '63123697'}, {'create_time': '2021-04-26 10:46:05', 'username': '亲爱一家人2020', 'score': '4', 'content': '登录太慢了。自动修正怎么关闭？', 'version_name': '16.0.12827.20140', 'msgid': '63082382'}, {'create_time': '2021-03-22 15:00:47', 'username': 'superjunnerm', 'score': '4', 'content': '只是个人记录,不用回复。\\n登录新建账号没建任何文档,此时占用内存121+242。\\n没有分屏功能。\\n有很多免费模板', 'version_name': '16.0.12827.20140', 'msgid': '62980021'}]\n"
     ]
    }
   ],
   "source": [
    "from codecs import unicode_escape_decode, utf_8_decode\n",
    "from xml.etree.ElementTree import Comment\n",
    "from numpy import unicode_\n",
    "import requests\n",
    "from bs4 import BeautifulSoup\n",
    "import json\n",
    "import time\n",
    "from  timeloop import Timeloop\n",
    "from  datetime import timedelta\n",
    "\n",
    "headers = {\n",
    "  'user-agent': 'Mozilla/5.0 (Windows NT 10.0; Win64; x64) AppleWebKit/537.36 (KHTML, like Gecko) Chrome/103.0.0.0 Safari/537.36'\n",
    "}\n",
    "\n",
    "# 定时模块\n",
    "tl = Timeloop()\n",
    "@tl.job(interval=timedelta(seconds=600))\n",
    "def sample_job_every_600s():\n",
    "    res = requests.get('http://app.so.com/message/index?page=1&requestType=ajax&_t=1658374401573&name=%E5%BE%AE%E8%BD%AFWord%E9%A2%84%E8%A7%88%E7%89%88+Android_com.microsoft.office.word', headers=headers)\n",
    "    # text = res.text.encode().decode(\"unicode_escape\")\n",
    "\n",
    "    # soup = BeautifulSoup(text, 'html.parser')\n",
    "    # print(\"Python 原始数据：\",soup)\n",
    "\n",
    "    json_str = json.loads(res.text) # 加载评论内容\n",
    "    # print (\"JSON 对象：\", json_str)\n",
    "\n",
    "\n",
    "    Comments = []\n",
    "\n",
    "\n",
    "    for item in json_str:\n",
    "        usrcomment={}\n",
    "        usrcomment['create_time']=item.get('create_time')\n",
    "        usrcomment['username'] = item.get('username')\n",
    "        usrcomment['score'] = item.get('score')\n",
    "        usrcomment['content'] = item.get('content')\n",
    "        usrcomment['version_name'] = item.get('version_name')\n",
    "        usrcomment['msgid'] = item.get('msgid')\n",
    "\n",
    "        print (item)\n",
    "\n",
    "        Comments.append(usrcomment)\n",
    "\n",
    "    print(Comments)\n",
    "\n",
    " \n",
    "def main():\n",
    "    sample_job_every_600s()\n",
    " \n",
    "if __name__ == '__main__':\n",
    "    main()\n",
    "\n"
   ]
  },
  {
   "cell_type": "code",
   "execution_count": 2,
   "metadata": {},
   "outputs": [
    {
     "name": "stdout",
     "output_type": "stream",
     "text": [
      "4.0.6\n"
     ]
    }
   ],
   "source": [
    "import django\n",
    "print(django.get_version())\n"
   ]
  }
 ],
 "metadata": {
  "kernelspec": {
   "display_name": "Python 3.10.4 ('appstore_comments')",
   "language": "python",
   "name": "python3"
  },
  "language_info": {
   "codemirror_mode": {
    "name": "ipython",
    "version": 3
   },
   "file_extension": ".py",
   "mimetype": "text/x-python",
   "name": "python",
   "nbconvert_exporter": "python",
   "pygments_lexer": "ipython3",
   "version": "3.10.4"
  },
  "orig_nbformat": 4,
  "vscode": {
   "interpreter": {
    "hash": "7e8b65c1de9b11375471c3588fc06fb4df8a3be44741fd4d2bf6f664ede57f1c"
   }
  }
 },
 "nbformat": 4,
 "nbformat_minor": 2
}
